{
 "cells": [
  {
   "cell_type": "code",
   "execution_count": 1,
   "id": "68e8a8b4",
   "metadata": {},
   "outputs": [
    {
     "data": {
      "text/html": [
       "<div>\n",
       "<style scoped>\n",
       "    .dataframe tbody tr th:only-of-type {\n",
       "        vertical-align: middle;\n",
       "    }\n",
       "\n",
       "    .dataframe tbody tr th {\n",
       "        vertical-align: top;\n",
       "    }\n",
       "\n",
       "    .dataframe thead th {\n",
       "        text-align: right;\n",
       "    }\n",
       "</style>\n",
       "<table border=\"1\" class=\"dataframe\">\n",
       "  <thead>\n",
       "    <tr style=\"text-align: right;\">\n",
       "      <th></th>\n",
       "      <th>ClaveEntidad</th>\n",
       "      <th>ClaveMunicipio</th>\n",
       "      <th>ClaveGeo</th>\n",
       "      <th>Municipio</th>\n",
       "      <th>Estado</th>\n",
       "      <th>Cartel</th>\n",
       "      <th>Fecha</th>\n",
       "    </tr>\n",
       "  </thead>\n",
       "  <tbody>\n",
       "    <tr>\n",
       "      <th>0</th>\n",
       "      <td>1</td>\n",
       "      <td>1</td>\n",
       "      <td>1001</td>\n",
       "      <td>Aguascalientes</td>\n",
       "      <td>Aguascalientes</td>\n",
       "      <td>Cárteles Unidos (Alianza entre La Oficina y el...</td>\n",
       "      <td>2022/02/01</td>\n",
       "    </tr>\n",
       "    <tr>\n",
       "      <th>1</th>\n",
       "      <td>1</td>\n",
       "      <td>2</td>\n",
       "      <td>1002</td>\n",
       "      <td>Asientos</td>\n",
       "      <td>Aguascalientes</td>\n",
       "      <td>Los Talibanes</td>\n",
       "      <td>2022/02/01</td>\n",
       "    </tr>\n",
       "    <tr>\n",
       "      <th>2</th>\n",
       "      <td>1</td>\n",
       "      <td>3</td>\n",
       "      <td>1003</td>\n",
       "      <td>Calvillo</td>\n",
       "      <td>Aguascalientes</td>\n",
       "      <td>Cárteles Unidos (Alianza entre La Oficina y el...</td>\n",
       "      <td>2022/02/01</td>\n",
       "    </tr>\n",
       "    <tr>\n",
       "      <th>3</th>\n",
       "      <td>1</td>\n",
       "      <td>4</td>\n",
       "      <td>1004</td>\n",
       "      <td>Cosío</td>\n",
       "      <td>Aguascalientes</td>\n",
       "      <td>Cártel Jalisco Nueva Generación, Los Talibanes</td>\n",
       "      <td>2022/02/01</td>\n",
       "    </tr>\n",
       "    <tr>\n",
       "      <th>4</th>\n",
       "      <td>1</td>\n",
       "      <td>5</td>\n",
       "      <td>1005</td>\n",
       "      <td>Jesús María</td>\n",
       "      <td>Aguascalientes</td>\n",
       "      <td>Cárteles Unidos (Alianza entre La Oficina y el...</td>\n",
       "      <td>2022/02/01</td>\n",
       "    </tr>\n",
       "    <tr>\n",
       "      <th>...</th>\n",
       "      <td>...</td>\n",
       "      <td>...</td>\n",
       "      <td>...</td>\n",
       "      <td>...</td>\n",
       "      <td>...</td>\n",
       "      <td>...</td>\n",
       "      <td>...</td>\n",
       "    </tr>\n",
       "    <tr>\n",
       "      <th>2458</th>\n",
       "      <td>32</td>\n",
       "      <td>54</td>\n",
       "      <td>32054</td>\n",
       "      <td>Villa Hidalgo</td>\n",
       "      <td>Zacatecas</td>\n",
       "      <td>Talibanes</td>\n",
       "      <td>2022/02/01</td>\n",
       "    </tr>\n",
       "    <tr>\n",
       "      <th>2459</th>\n",
       "      <td>32</td>\n",
       "      <td>55</td>\n",
       "      <td>32055</td>\n",
       "      <td>Villanueva</td>\n",
       "      <td>Zacatecas</td>\n",
       "      <td>Cártel del Golfo aliado al Cártel Jalisco Nuev...</td>\n",
       "      <td>2022/02/01</td>\n",
       "    </tr>\n",
       "    <tr>\n",
       "      <th>2460</th>\n",
       "      <td>32</td>\n",
       "      <td>56</td>\n",
       "      <td>32056</td>\n",
       "      <td>Zacatecas</td>\n",
       "      <td>Zacatecas</td>\n",
       "      <td>Cártel del Noreste</td>\n",
       "      <td>2022/02/01</td>\n",
       "    </tr>\n",
       "    <tr>\n",
       "      <th>2461</th>\n",
       "      <td>32</td>\n",
       "      <td>57</td>\n",
       "      <td>32057</td>\n",
       "      <td>Trancoso</td>\n",
       "      <td>Zacatecas</td>\n",
       "      <td>Talibanes</td>\n",
       "      <td>2022/02/01</td>\n",
       "    </tr>\n",
       "    <tr>\n",
       "      <th>2462</th>\n",
       "      <td>32</td>\n",
       "      <td>58</td>\n",
       "      <td>32058</td>\n",
       "      <td>Santa María de la Paz</td>\n",
       "      <td>Zacatecas</td>\n",
       "      <td>Sin registro</td>\n",
       "      <td>2022/02/01</td>\n",
       "    </tr>\n",
       "  </tbody>\n",
       "</table>\n",
       "<p>2463 rows × 7 columns</p>\n",
       "</div>"
      ],
      "text/plain": [
       "      ClaveEntidad  ClaveMunicipio  ClaveGeo              Municipio  \\\n",
       "0                1               1      1001         Aguascalientes   \n",
       "1                1               2      1002               Asientos   \n",
       "2                1               3      1003               Calvillo   \n",
       "3                1               4      1004                  Cosío   \n",
       "4                1               5      1005            Jesús María   \n",
       "...            ...             ...       ...                    ...   \n",
       "2458            32              54     32054          Villa Hidalgo   \n",
       "2459            32              55     32055             Villanueva   \n",
       "2460            32              56     32056              Zacatecas   \n",
       "2461            32              57     32057               Trancoso   \n",
       "2462            32              58     32058  Santa María de la Paz   \n",
       "\n",
       "              Estado                                             Cartel  \\\n",
       "0     Aguascalientes  Cárteles Unidos (Alianza entre La Oficina y el...   \n",
       "1     Aguascalientes                                      Los Talibanes   \n",
       "2     Aguascalientes  Cárteles Unidos (Alianza entre La Oficina y el...   \n",
       "3     Aguascalientes     Cártel Jalisco Nueva Generación, Los Talibanes   \n",
       "4     Aguascalientes  Cárteles Unidos (Alianza entre La Oficina y el...   \n",
       "...              ...                                                ...   \n",
       "2458       Zacatecas                                          Talibanes   \n",
       "2459       Zacatecas  Cártel del Golfo aliado al Cártel Jalisco Nuev...   \n",
       "2460       Zacatecas                                 Cártel del Noreste   \n",
       "2461       Zacatecas                                          Talibanes   \n",
       "2462       Zacatecas                                       Sin registro   \n",
       "\n",
       "           Fecha  \n",
       "0     2022/02/01  \n",
       "1     2022/02/01  \n",
       "2     2022/02/01  \n",
       "3     2022/02/01  \n",
       "4     2022/02/01  \n",
       "...          ...  \n",
       "2458  2022/02/01  \n",
       "2459  2022/02/01  \n",
       "2460  2022/02/01  \n",
       "2461  2022/02/01  \n",
       "2462  2022/02/01  \n",
       "\n",
       "[2463 rows x 7 columns]"
      ]
     },
     "execution_count": 1,
     "metadata": {},
     "output_type": "execute_result"
    }
   ],
   "source": [
    "import pandas as pd\n",
    "df=pd.read_csv('baseC.csv.')\n",
    "df"
   ]
  },
  {
   "cell_type": "code",
   "execution_count": 9,
   "id": "db6fadf3",
   "metadata": {},
   "outputs": [
    {
     "data": {
      "text/plain": [
       "Estado\n",
       "Oaxaca                 570\n",
       "Puebla                 217\n",
       "Veracruz               212\n",
       "Jalisco                125\n",
       "Edo. de México         125\n",
       "Chiapas                123\n",
       "Michoacán              113\n",
       "Yucatán                106\n",
       "Hidalgo                 84\n",
       "Guerrero                81\n",
       "Sonora                  72\n",
       "Chihuahua               67\n",
       "Tlaxcala                60\n",
       "San Luis Potosí         58\n",
       "Zacatecas               58\n",
       "Nuevo León              51\n",
       "Guanajuato              46\n",
       "Tamaulipas              43\n",
       "Durango                 39\n",
       "Coahuila                38\n",
       "Morelos                 33\n",
       "Nayarit                 20\n",
       "Sinaloa                 18\n",
       "Querétaro               18\n",
       "Tabasco                 17\n",
       "CDMX                    16\n",
       "Aguascalientes          11\n",
       "Campeche                11\n",
       "Quintana Roo            11\n",
       "Colima                  10\n",
       "Baja California Sur      5\n",
       "Baja California          5\n",
       "Name: count, dtype: int64"
      ]
     },
     "execution_count": 9,
     "metadata": {},
     "output_type": "execute_result"
    }
   ],
   "source": [
    "df[\"Estado\"].value_counts()"
   ]
  },
  {
   "cell_type": "code",
   "execution_count": 2,
   "id": "4d2379fd",
   "metadata": {},
   "outputs": [
    {
     "data": {
      "text/plain": [
       "Index(['ClaveEntidad', 'ClaveMunicipio', 'ClaveGeo', 'Municipio', 'Estado',\n",
       "       'Cartel', 'Fecha'],\n",
       "      dtype='object')"
      ]
     },
     "execution_count": 2,
     "metadata": {},
     "output_type": "execute_result"
    }
   ],
   "source": [
    "df.columns"
   ]
  },
  {
   "cell_type": "code",
   "execution_count": 4,
   "id": "8c051c8e",
   "metadata": {},
   "outputs": [
    {
     "data": {
      "text/plain": [
       "Cartel\n",
       "Sin registro                                                                                           1265\n",
       "Cártel Jalisco Nueva Generación                                                                         297\n",
       "Cártel de Sinaloa y/o Pacífico                                                                           90\n",
       "CDG-ZVE Grupo Sombra                                                                                     45\n",
       "Cártel de los Zetas incisión 35-Z                                                                        43\n",
       "                                                                                                       ... \n",
       "Las Rojas Romero, Cártel Jalisco Nueva Generación                                                         1\n",
       "Cártel Jalisco Nueva Generación, Sangre Nueva Zeta                                                        1\n",
       "Caballeros Templarios, Los Rojas Romero, Cártel Jalisco Nueva Generación                                  1\n",
       "Los Rojas Romero                                                                                          1\n",
       "Cártel del Pacifico, Cártel del Golfo aliado al Cártel Jalisco Nueva Generación, Cártel del Noreste       1\n",
       "Name: count, Length: 196, dtype: int64"
      ]
     },
     "execution_count": 4,
     "metadata": {},
     "output_type": "execute_result"
    }
   ],
   "source": [
    "df[\"Cartel\"].value_counts()"
   ]
  },
  {
   "cell_type": "code",
   "execution_count": 7,
   "id": "8612291e",
   "metadata": {},
   "outputs": [
    {
     "data": {
      "text/plain": [
       "Fecha\n",
       "2020/11/01         1050\n",
       "2021/01/01          342\n",
       "2022/02/01          163\n",
       "2021/02/01          142\n",
       "2022/07/01          125\n",
       "2022                118\n",
       "2021/11/01           81\n",
       "2020/12/01           72\n",
       "2020/09/01           67\n",
       "2022/08/01           60\n",
       "2021                 56\n",
       "2020                 56\n",
       "2020/02/01           43\n",
       "febrero de 2020      39\n",
       "2017-abril 2018      33\n",
       "2022/06/01           16\n",
       "Name: count, dtype: int64"
      ]
     },
     "execution_count": 7,
     "metadata": {},
     "output_type": "execute_result"
    }
   ],
   "source": [
    "df[\"Fecha\"].value_counts()"
   ]
  },
  {
   "cell_type": "code",
   "execution_count": 8,
   "id": "bdacedfe",
   "metadata": {},
   "outputs": [
    {
     "name": "stdout",
     "output_type": "stream",
     "text": [
      "<class 'pandas.core.frame.DataFrame'>\n",
      "RangeIndex: 2463 entries, 0 to 2462\n",
      "Data columns (total 7 columns):\n",
      " #   Column          Non-Null Count  Dtype \n",
      "---  ------          --------------  ----- \n",
      " 0   ClaveEntidad    2463 non-null   int64 \n",
      " 1   ClaveMunicipio  2463 non-null   int64 \n",
      " 2   ClaveGeo        2463 non-null   int64 \n",
      " 3   Municipio       2463 non-null   object\n",
      " 4   Estado          2463 non-null   object\n",
      " 5   Cartel          2463 non-null   object\n",
      " 6   Fecha           2463 non-null   object\n",
      "dtypes: int64(3), object(4)\n",
      "memory usage: 134.8+ KB\n"
     ]
    }
   ],
   "source": [
    "df.info()"
   ]
  },
  {
   "cell_type": "code",
   "execution_count": 6,
   "id": "51a14da8",
   "metadata": {},
   "outputs": [
    {
     "data": {
      "text/plain": [
       "Municipio\n",
       "Benito Juárez      7\n",
       "Ocampo             6\n",
       "Emiliano Zapata    5\n",
       "Morelos            5\n",
       "Villa Hidalgo      5\n",
       "                  ..\n",
       "Champotón          1\n",
       "Hecelchakán        1\n",
       "Hopelchén          1\n",
       "Palizada           1\n",
       "Sombrerete         1\n",
       "Name: count, Length: 2349, dtype: int64"
      ]
     },
     "execution_count": 6,
     "metadata": {},
     "output_type": "execute_result"
    }
   ],
   "source": [
    "df[\"Municipio\"].value_counts()"
   ]
  }
 ],
 "metadata": {
  "kernelspec": {
   "display_name": "Python 3",
   "language": "python",
   "name": "python3"
  },
  "language_info": {
   "codemirror_mode": {
    "name": "ipython",
    "version": 3
   },
   "file_extension": ".py",
   "mimetype": "text/x-python",
   "name": "python",
   "nbconvert_exporter": "python",
   "pygments_lexer": "ipython3",
   "version": "3.13.7"
  }
 },
 "nbformat": 4,
 "nbformat_minor": 5
}
