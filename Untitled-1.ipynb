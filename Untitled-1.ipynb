{
 "cells": [
  {
   "cell_type": "code",
   "execution_count": 4,
   "id": "3a391dfa",
   "metadata": {},
   "outputs": [
    {
     "data": {
      "text/html": [
       "<div>\n",
       "<style scoped>\n",
       "    .dataframe tbody tr th:only-of-type {\n",
       "        vertical-align: middle;\n",
       "    }\n",
       "\n",
       "    .dataframe tbody tr th {\n",
       "        vertical-align: top;\n",
       "    }\n",
       "\n",
       "    .dataframe thead th {\n",
       "        text-align: right;\n",
       "    }\n",
       "</style>\n",
       "<table border=\"1\" class=\"dataframe\">\n",
       "  <thead>\n",
       "    <tr style=\"text-align: right;\">\n",
       "      <th></th>\n",
       "      <th>COBERTURA</th>\n",
       "      <th>ANIO</th>\n",
       "      <th>MES</th>\n",
       "      <th>ESTADO</th>\n",
       "      <th>MUNICIPIO</th>\n",
       "      <th>GRUPO_PRODUCTO</th>\n",
       "      <th>PRODUCTO</th>\n",
       "      <th>UNIDAD_MEDIDA</th>\n",
       "      <th>VOLUMEN</th>\n",
       "      <th>ESTATUS</th>\n",
       "    </tr>\n",
       "  </thead>\n",
       "  <tbody>\n",
       "    <tr>\n",
       "      <th>0</th>\n",
       "      <td>Municipal</td>\n",
       "      <td>2001</td>\n",
       "      <td>Enero</td>\n",
       "      <td>Baja California</td>\n",
       "      <td>Agua Prieta</td>\n",
       "      <td>Metales Preciosos</td>\n",
       "      <td>Oro</td>\n",
       "      <td>Kilogramos</td>\n",
       "      <td>239.6</td>\n",
       "      <td>Cifras Definitivas.</td>\n",
       "    </tr>\n",
       "    <tr>\n",
       "      <th>1</th>\n",
       "      <td>Municipal</td>\n",
       "      <td>2001</td>\n",
       "      <td>Enero</td>\n",
       "      <td>Baja California</td>\n",
       "      <td>Agua Prieta</td>\n",
       "      <td>Metales Preciosos</td>\n",
       "      <td>Plata</td>\n",
       "      <td>Kilogramos</td>\n",
       "      <td>1642.0</td>\n",
       "      <td>Cifras Definitivas.</td>\n",
       "    </tr>\n",
       "    <tr>\n",
       "      <th>2</th>\n",
       "      <td>Municipal</td>\n",
       "      <td>2001</td>\n",
       "      <td>Enero</td>\n",
       "      <td>Baja California</td>\n",
       "      <td>Agua Prieta</td>\n",
       "      <td>Metales Industriales No Ferrosos</td>\n",
       "      <td>Plomo</td>\n",
       "      <td>Toneladas</td>\n",
       "      <td>0.0</td>\n",
       "      <td>Cifras Definitivas.</td>\n",
       "    </tr>\n",
       "    <tr>\n",
       "      <th>3</th>\n",
       "      <td>Municipal</td>\n",
       "      <td>2001</td>\n",
       "      <td>Enero</td>\n",
       "      <td>Baja California</td>\n",
       "      <td>Agua Prieta</td>\n",
       "      <td>Metales Industriales No Ferrosos</td>\n",
       "      <td>Cobre</td>\n",
       "      <td>Toneladas</td>\n",
       "      <td>0.0</td>\n",
       "      <td>Cifras Definitivas.</td>\n",
       "    </tr>\n",
       "    <tr>\n",
       "      <th>4</th>\n",
       "      <td>Municipal</td>\n",
       "      <td>2001</td>\n",
       "      <td>Enero</td>\n",
       "      <td>Coahuila de Zaragoza</td>\n",
       "      <td>Agua Prieta</td>\n",
       "      <td>Minerales No Metálicos</td>\n",
       "      <td>Fluorita</td>\n",
       "      <td>Toneladas</td>\n",
       "      <td>2430.0</td>\n",
       "      <td>Cifras Definitivas.</td>\n",
       "    </tr>\n",
       "    <tr>\n",
       "      <th>...</th>\n",
       "      <td>...</td>\n",
       "      <td>...</td>\n",
       "      <td>...</td>\n",
       "      <td>...</td>\n",
       "      <td>...</td>\n",
       "      <td>...</td>\n",
       "      <td>...</td>\n",
       "      <td>...</td>\n",
       "      <td>...</td>\n",
       "      <td>...</td>\n",
       "    </tr>\n",
       "    <tr>\n",
       "      <th>83203</th>\n",
       "      <td>Municipal</td>\n",
       "      <td>2023</td>\n",
       "      <td>Diciembre</td>\n",
       "      <td>Zacatecas</td>\n",
       "      <td>Villanueva</td>\n",
       "      <td>Metales Preciosos</td>\n",
       "      <td>Plata</td>\n",
       "      <td>Kilogramos</td>\n",
       "      <td>23.0</td>\n",
       "      <td>Cifras Preliminares.</td>\n",
       "    </tr>\n",
       "    <tr>\n",
       "      <th>83204</th>\n",
       "      <td>Municipal</td>\n",
       "      <td>2023</td>\n",
       "      <td>Diciembre</td>\n",
       "      <td>Zacatecas</td>\n",
       "      <td>Villanueva</td>\n",
       "      <td>Metales Industriales No Ferrosos</td>\n",
       "      <td>Plomo</td>\n",
       "      <td>Toneladas</td>\n",
       "      <td>1.0</td>\n",
       "      <td>Cifras Preliminares.</td>\n",
       "    </tr>\n",
       "    <tr>\n",
       "      <th>83205</th>\n",
       "      <td>Municipal</td>\n",
       "      <td>2023</td>\n",
       "      <td>Diciembre</td>\n",
       "      <td>Zacatecas</td>\n",
       "      <td>Villanueva</td>\n",
       "      <td>Metales Industriales No Ferrosos</td>\n",
       "      <td>Cobre</td>\n",
       "      <td>Toneladas</td>\n",
       "      <td>1.0</td>\n",
       "      <td>Cifras Preliminares.</td>\n",
       "    </tr>\n",
       "    <tr>\n",
       "      <th>83206</th>\n",
       "      <td>Municipal</td>\n",
       "      <td>2023</td>\n",
       "      <td>Diciembre</td>\n",
       "      <td>Zacatecas</td>\n",
       "      <td>Zacatecas</td>\n",
       "      <td>Metales Preciosos</td>\n",
       "      <td>Oro</td>\n",
       "      <td>Kilogramos</td>\n",
       "      <td>53.7</td>\n",
       "      <td>Cifras Preliminares.</td>\n",
       "    </tr>\n",
       "    <tr>\n",
       "      <th>83207</th>\n",
       "      <td>Municipal</td>\n",
       "      <td>2023</td>\n",
       "      <td>Diciembre</td>\n",
       "      <td>Zacatecas</td>\n",
       "      <td>Zacatecas</td>\n",
       "      <td>Metales Preciosos</td>\n",
       "      <td>Plata</td>\n",
       "      <td>Kilogramos</td>\n",
       "      <td>581.0</td>\n",
       "      <td>Cifras Preliminares.</td>\n",
       "    </tr>\n",
       "  </tbody>\n",
       "</table>\n",
       "<p>83208 rows × 10 columns</p>\n",
       "</div>"
      ],
      "text/plain": [
       "       COBERTURA  ANIO        MES                ESTADO    MUNICIPIO  \\\n",
       "0      Municipal  2001      Enero       Baja California  Agua Prieta   \n",
       "1      Municipal  2001      Enero       Baja California  Agua Prieta   \n",
       "2      Municipal  2001      Enero       Baja California  Agua Prieta   \n",
       "3      Municipal  2001      Enero       Baja California  Agua Prieta   \n",
       "4      Municipal  2001      Enero  Coahuila de Zaragoza  Agua Prieta   \n",
       "...          ...   ...        ...                   ...          ...   \n",
       "83203  Municipal  2023  Diciembre             Zacatecas   Villanueva   \n",
       "83204  Municipal  2023  Diciembre             Zacatecas   Villanueva   \n",
       "83205  Municipal  2023  Diciembre             Zacatecas   Villanueva   \n",
       "83206  Municipal  2023  Diciembre             Zacatecas    Zacatecas   \n",
       "83207  Municipal  2023  Diciembre             Zacatecas    Zacatecas   \n",
       "\n",
       "                         GRUPO_PRODUCTO  PRODUCTO UNIDAD_MEDIDA  VOLUMEN  \\\n",
       "0                     Metales Preciosos       Oro    Kilogramos    239.6   \n",
       "1                     Metales Preciosos     Plata    Kilogramos   1642.0   \n",
       "2      Metales Industriales No Ferrosos     Plomo     Toneladas      0.0   \n",
       "3      Metales Industriales No Ferrosos     Cobre     Toneladas      0.0   \n",
       "4                Minerales No Metálicos  Fluorita     Toneladas   2430.0   \n",
       "...                                 ...       ...           ...      ...   \n",
       "83203                 Metales Preciosos     Plata    Kilogramos     23.0   \n",
       "83204  Metales Industriales No Ferrosos     Plomo     Toneladas      1.0   \n",
       "83205  Metales Industriales No Ferrosos     Cobre     Toneladas      1.0   \n",
       "83206                 Metales Preciosos       Oro    Kilogramos     53.7   \n",
       "83207                 Metales Preciosos     Plata    Kilogramos    581.0   \n",
       "\n",
       "                    ESTATUS  \n",
       "0       Cifras Definitivas.  \n",
       "1       Cifras Definitivas.  \n",
       "2       Cifras Definitivas.  \n",
       "3       Cifras Definitivas.  \n",
       "4       Cifras Definitivas.  \n",
       "...                     ...  \n",
       "83203  Cifras Preliminares.  \n",
       "83204  Cifras Preliminares.  \n",
       "83205  Cifras Preliminares.  \n",
       "83206  Cifras Preliminares.  \n",
       "83207  Cifras Preliminares.  \n",
       "\n",
       "[83208 rows x 10 columns]"
      ]
     },
     "execution_count": 4,
     "metadata": {},
     "output_type": "execute_result"
    }
   ],
   "source": [
    "import pandas as pd\n",
    "df=pd.read_csv(\"Produccion_Minera.csv\")\n",
    "df"
   ]
  },
  {
   "cell_type": "code",
   "execution_count": 5,
   "id": "02b6599c",
   "metadata": {},
   "outputs": [
    {
     "data": {
      "text/plain": [
       "(83208, 10)"
      ]
     },
     "execution_count": 5,
     "metadata": {},
     "output_type": "execute_result"
    }
   ],
   "source": [
    "df.shape"
   ]
  },
  {
   "cell_type": "code",
   "execution_count": 6,
   "id": "8bae1a13",
   "metadata": {},
   "outputs": [
    {
     "data": {
      "text/plain": [
       "Index(['COBERTURA', 'ANIO', 'MES', 'ESTADO', 'MUNICIPIO', 'GRUPO_PRODUCTO',\n",
       "       'PRODUCTO', 'UNIDAD_MEDIDA', 'VOLUMEN', 'ESTATUS'],\n",
       "      dtype='object')"
      ]
     },
     "execution_count": 6,
     "metadata": {},
     "output_type": "execute_result"
    }
   ],
   "source": [
    "df.columns"
   ]
  },
  {
   "cell_type": "code",
   "execution_count": 13,
   "id": "568fc39f",
   "metadata": {},
   "outputs": [
    {
     "data": {
      "text/plain": [
       "GRUPO_PRODUCTO\n",
       "Metales Preciosos                   40644\n",
       "Metales Industriales No Ferrosos    31440\n",
       "Minerales No Metálicos               5856\n",
       "Metales y Minerales Siderúrgicos     5268\n",
       "Name: count, dtype: int64"
      ]
     },
     "execution_count": 13,
     "metadata": {},
     "output_type": "execute_result"
    }
   ],
   "source": [
    "df[\"GRUPO_PRODUCTO\"].value_counts()"
   ]
  },
  {
   "cell_type": "code",
   "execution_count": 15,
   "id": "118dd6dd",
   "metadata": {},
   "outputs": [
    {
     "data": {
      "text/plain": [
       "ANIO\n",
       "2013    4236\n",
       "2001    4068\n",
       "2012    4044\n",
       "2008    3936\n",
       "2009    3864\n",
       "2007    3828\n",
       "2011    3816\n",
       "2010    3816\n",
       "2014    3780\n",
       "2016    3780\n",
       "2005    3732\n",
       "2006    3672\n",
       "2004    3516\n",
       "2015    3504\n",
       "2018    3456\n",
       "2017    3444\n",
       "2002    3372\n",
       "2019    3336\n",
       "2003    3252\n",
       "2020    3228\n",
       "2022    3180\n",
       "2023    3180\n",
       "2021    3168\n",
       "Name: count, dtype: int64"
      ]
     },
     "execution_count": 15,
     "metadata": {},
     "output_type": "execute_result"
    }
   ],
   "source": [
    "df[\"ANIO\"].value_counts()"
   ]
  },
  {
   "cell_type": "code",
   "execution_count": 12,
   "id": "6b68453d",
   "metadata": {},
   "outputs": [
    {
     "data": {
      "text/plain": [
       "ESTADO\n",
       "Zacatecas                          13404\n",
       "Durango                            13056\n",
       "Chihuahua                          12972\n",
       "Sonora                              7944\n",
       "Sinaloa                             4344\n",
       "Jalisco                             3576\n",
       "San Luis Potosí                     3144\n",
       "Coahuila de Zaragoza                3060\n",
       "México                              2952\n",
       "Michoacán de Ocampo                 2772\n",
       "Guerrero                            2748\n",
       "Hidalgo                             2292\n",
       "Oaxaca                              2088\n",
       "Querétaro                           1188\n",
       "Guanajuato                          1140\n",
       "Colima                              1020\n",
       "Aguascalientes                       960\n",
       "Nayarit                              900\n",
       "Veracruz de Ignacio de la Llave      900\n",
       "Nuevo León                           744\n",
       "Tabasco                              552\n",
       "Baja California                      468\n",
       "Chiapas                              276\n",
       "Tamaulipas                           276\n",
       "Morelos                              168\n",
       "Baja California Sur                  156\n",
       "Puebla                               108\n",
       "Name: count, dtype: int64"
      ]
     },
     "execution_count": 12,
     "metadata": {},
     "output_type": "execute_result"
    }
   ],
   "source": [
    "df[\"ESTADO\"].value_counts()"
   ]
  },
  {
   "cell_type": "code",
   "execution_count": 17,
   "id": "eb7bd5a3",
   "metadata": {},
   "outputs": [
    {
     "data": {
      "text/plain": [
       "PRODUCTO\n",
       "Plata                   21264\n",
       "Oro                     19380\n",
       "Plomo                   11904\n",
       "Cobre                   10896\n",
       "Zinc                     8640\n",
       "Fierro en Extraccion     3588\n",
       "Azufre                   3096\n",
       "Barita                   1728\n",
       "Pellets de fierro        1104\n",
       "Fluorita                 1032\n",
       "Coque                     576\n",
       "Name: count, dtype: int64"
      ]
     },
     "execution_count": 17,
     "metadata": {},
     "output_type": "execute_result"
    }
   ],
   "source": [
    "df[\"PRODUCTO\"].value_counts()"
   ]
  },
  {
   "cell_type": "code",
   "execution_count": 18,
   "id": "c0942b7e",
   "metadata": {},
   "outputs": [
    {
     "data": {
      "text/plain": [
       "MUNICIPIO\n",
       "Centro           4644\n",
       "Morelos          4332\n",
       "Cosalá           3780\n",
       "Chalchihuites    3348\n",
       "Agua Prieta      3156\n",
       "                 ... \n",
       "San Marcos         12\n",
       "Tolimán            12\n",
       "Santa Clara        12\n",
       "Zinapécuaro        12\n",
       "Tonila             12\n",
       "Name: count, Length: 91, dtype: int64"
      ]
     },
     "execution_count": 18,
     "metadata": {},
     "output_type": "execute_result"
    }
   ],
   "source": [
    "df[\"MUNICIPIO\"].value_counts()"
   ]
  },
  {
   "cell_type": "code",
   "execution_count": 16,
   "id": "0297e70e",
   "metadata": {},
   "outputs": [
    {
     "data": {
      "text/plain": [
       "array(['Municipal'], dtype=object)"
      ]
     },
     "execution_count": 16,
     "metadata": {},
     "output_type": "execute_result"
    }
   ],
   "source": [
    "df[\"COBERTURA\"].unique()"
   ]
  },
  {
   "cell_type": "code",
   "execution_count": 19,
   "id": "5923e614",
   "metadata": {},
   "outputs": [
    {
     "name": "stdout",
     "output_type": "stream",
     "text": [
      "<class 'pandas.core.frame.DataFrame'>\n",
      "RangeIndex: 83208 entries, 0 to 83207\n",
      "Data columns (total 10 columns):\n",
      " #   Column          Non-Null Count  Dtype  \n",
      "---  ------          --------------  -----  \n",
      " 0   COBERTURA       83208 non-null  object \n",
      " 1   ANIO            83208 non-null  int64  \n",
      " 2   MES             83208 non-null  object \n",
      " 3   ESTADO          83208 non-null  object \n",
      " 4   MUNICIPIO       83208 non-null  object \n",
      " 5   GRUPO_PRODUCTO  83208 non-null  object \n",
      " 6   PRODUCTO        83208 non-null  object \n",
      " 7   UNIDAD_MEDIDA   83208 non-null  object \n",
      " 8   VOLUMEN         83208 non-null  float64\n",
      " 9   ESTATUS         83208 non-null  object \n",
      "dtypes: float64(1), int64(1), object(8)\n",
      "memory usage: 6.3+ MB\n"
     ]
    }
   ],
   "source": [
    "df.info()"
   ]
  },
  {
   "cell_type": "code",
   "execution_count": 21,
   "id": "ed329ca9",
   "metadata": {},
   "outputs": [
    {
     "data": {
      "text/plain": [
       "COBERTURA         0\n",
       "ANIO              0\n",
       "MES               0\n",
       "ESTADO            0\n",
       "MUNICIPIO         0\n",
       "GRUPO_PRODUCTO    0\n",
       "PRODUCTO          0\n",
       "UNIDAD_MEDIDA     0\n",
       "VOLUMEN           0\n",
       "ESTATUS           0\n",
       "dtype: int64"
      ]
     },
     "execution_count": 21,
     "metadata": {},
     "output_type": "execute_result"
    }
   ],
   "source": [
    "df.isnull().sum()"
   ]
  },
  {
   "cell_type": "code",
   "execution_count": 22,
   "id": "9bc9677f",
   "metadata": {},
   "outputs": [
    {
     "data": {
      "text/plain": [
       "np.int64(7)"
      ]
     },
     "execution_count": 22,
     "metadata": {},
     "output_type": "execute_result"
    }
   ],
   "source": [
    "df.duplicated().sum()"
   ]
  }
 ],
 "metadata": {
  "kernelspec": {
   "display_name": "Python 3",
   "language": "python",
   "name": "python3"
  },
  "language_info": {
   "codemirror_mode": {
    "name": "ipython",
    "version": 3
   },
   "file_extension": ".py",
   "mimetype": "text/x-python",
   "name": "python",
   "nbconvert_exporter": "python",
   "pygments_lexer": "ipython3",
   "version": "3.13.7"
  }
 },
 "nbformat": 4,
 "nbformat_minor": 5
}
